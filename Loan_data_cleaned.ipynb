{
 "cells": [
  {
   "cell_type": "code",
   "execution_count": 2,
   "id": "007e76c4-b43e-49f0-9030-2997d7296118",
   "metadata": {},
   "outputs": [],
   "source": [
    "import numpy as np"
   ]
  },
  {
   "cell_type": "code",
   "execution_count": 3,
   "id": "1335e71c-fd57-4d63-83e4-972d391c7182",
   "metadata": {},
   "outputs": [],
   "source": [
    "np.set_printoptions(suppress=True, linewidth=100, precision=2)"
   ]
  },
  {
   "cell_type": "code",
   "execution_count": 4,
   "id": "0b44cf11-b406-458b-998d-7234e1f054d4",
   "metadata": {},
   "outputs": [
    {
     "data": {
      "text/plain": [
       "array([[48010226.  ,         nan,    35000.  , ...,         nan,         nan,     9452.96],\n",
       "       [57693261.  ,         nan,    30000.  , ...,         nan,         nan,     4679.7 ],\n",
       "       [59432726.  ,         nan,    15000.  , ...,         nan,         nan,     1969.83],\n",
       "       ...,\n",
       "       [50415990.  ,         nan,    10000.  , ...,         nan,         nan,     2185.64],\n",
       "       [46154151.  ,         nan,         nan, ...,         nan,         nan,     3199.4 ],\n",
       "       [66055249.  ,         nan,    10000.  , ...,         nan,         nan,      301.9 ]])"
      ]
     },
     "execution_count": 4,
     "metadata": {},
     "output_type": "execute_result"
    }
   ],
   "source": [
    "loan_data= np.genfromtxt('loan-data.csv', delimiter=';', skip_header=1, autostrip=True)\n",
    "loan_data"
   ]
  },
  {
   "cell_type": "code",
   "execution_count": 5,
   "id": "8de86d34-c932-4f14-8824-2c8c3f1aead4",
   "metadata": {},
   "outputs": [
    {
     "name": "stderr",
     "output_type": "stream",
     "text": [
      "C:\\Users\\LANOVO\\AppData\\Local\\Temp\\ipykernel_8992\\983871117.py:2: RuntimeWarning: Mean of empty slice\n",
      "  temp_mean= np.nanmean(loan_data, axis=0)\n"
     ]
    }
   ],
   "source": [
    "temp_fill= np.nanmax(loan_data)+1\n",
    "temp_mean= np.nanmean(loan_data, axis=0)"
   ]
  },
  {
   "cell_type": "code",
   "execution_count": 6,
   "id": "091f0a35-8f53-4442-b006-eb44aaf314d7",
   "metadata": {},
   "outputs": [
    {
     "data": {
      "text/plain": [
       "array([54015809.19,         nan,    15273.46,         nan,    15311.04,         nan,       16.62,\n",
       "            440.92,         nan,         nan,         nan,         nan,         nan,     3143.85])"
      ]
     },
     "execution_count": 6,
     "metadata": {},
     "output_type": "execute_result"
    }
   ],
   "source": [
    "temp_mean"
   ]
  },
  {
   "cell_type": "code",
   "execution_count": 7,
   "id": "66371c64-8fdd-493d-82cd-a3175c7f2574",
   "metadata": {},
   "outputs": [
    {
     "name": "stderr",
     "output_type": "stream",
     "text": [
      "C:\\Users\\LANOVO\\AppData\\Local\\Temp\\ipykernel_8992\\2431507556.py:1: RuntimeWarning: All-NaN slice encountered\n",
      "  temp_stats= np.array([np.nanmin(loan_data,axis=0),\n",
      "C:\\Users\\LANOVO\\AppData\\Local\\Temp\\ipykernel_8992\\2431507556.py:3: RuntimeWarning: All-NaN slice encountered\n",
      "  np.nanmax(loan_data,axis=0)])\n"
     ]
    },
    {
     "data": {
      "text/plain": [
       "array([[  373332.  ,         nan,     1000.  ,         nan,     1000.  ,         nan,        6.  ,\n",
       "              31.42,         nan,         nan,         nan,         nan,         nan,        0.  ],\n",
       "       [54015809.19,         nan,    15273.46,         nan,    15311.04,         nan,       16.62,\n",
       "             440.92,         nan,         nan,         nan,         nan,         nan,     3143.85],\n",
       "       [68616519.  ,         nan,    35000.  ,         nan,    35000.  ,         nan,       28.99,\n",
       "            1372.97,         nan,         nan,         nan,         nan,         nan,    41913.62]])"
      ]
     },
     "execution_count": 7,
     "metadata": {},
     "output_type": "execute_result"
    }
   ],
   "source": [
    "temp_stats= np.array([np.nanmin(loan_data,axis=0),\n",
    "                      temp_mean,\n",
    "                      np.nanmax(loan_data,axis=0)])\n",
    "temp_stats"
   ]
  },
  {
   "cell_type": "code",
   "execution_count": 8,
   "id": "4fab8a26-d047-4e9a-a2b0-7a926a65f1b3",
   "metadata": {},
   "outputs": [
    {
     "data": {
      "text/plain": [
       "array([[ 1],\n",
       "       [ 3],\n",
       "       [ 5],\n",
       "       [ 8],\n",
       "       [ 9],\n",
       "       [10],\n",
       "       [11],\n",
       "       [12]], dtype=int64)"
      ]
     },
     "execution_count": 8,
     "metadata": {},
     "output_type": "execute_result"
    }
   ],
   "source": [
    "column_strings= np.argwhere(np.isnan(temp_mean))\n",
    "column_strings"
   ]
  },
  {
   "cell_type": "code",
   "execution_count": 9,
   "id": "9e0a907f-5816-4da5-8156-d64ffb2de9f1",
   "metadata": {},
   "outputs": [
    {
     "data": {
      "text/plain": [
       "array([[ 0],\n",
       "       [ 2],\n",
       "       [ 4],\n",
       "       [ 6],\n",
       "       [ 7],\n",
       "       [13]], dtype=int64)"
      ]
     },
     "execution_count": 9,
     "metadata": {},
     "output_type": "execute_result"
    }
   ],
   "source": [
    "column_numeric= np.argwhere(np.isnan(temp_mean)==False)\n",
    "column_numeric"
   ]
  },
  {
   "cell_type": "code",
   "execution_count": 10,
   "id": "0d8e05a6-fc27-4aa7-b0c3-1599e23d50c2",
   "metadata": {},
   "outputs": [
    {
     "data": {
      "text/plain": [
       "array([ 1,  3,  5,  8,  9, 10, 11, 12], dtype=int64)"
      ]
     },
     "execution_count": 10,
     "metadata": {},
     "output_type": "execute_result"
    }
   ],
   "source": [
    "column_strings= np.argwhere(np.isnan(temp_mean)).squeeze()\n",
    "column_strings"
   ]
  },
  {
   "cell_type": "code",
   "execution_count": 11,
   "id": "f6603768-8481-4a07-9d45-325a8b464c49",
   "metadata": {},
   "outputs": [
    {
     "data": {
      "text/plain": [
       "array([ 0,  2,  4,  6,  7, 13], dtype=int64)"
      ]
     },
     "execution_count": 11,
     "metadata": {},
     "output_type": "execute_result"
    }
   ],
   "source": [
    "column_numeric= np.argwhere(np.isnan(temp_mean)==False).squeeze()\n",
    "column_numeric"
   ]
  },
  {
   "cell_type": "code",
   "execution_count": 12,
   "id": "55a0e525-9272-4107-aa25-16cf16cafca4",
   "metadata": {},
   "outputs": [
    {
     "data": {
      "text/plain": [
       "array([['May-15', 'Current', '36 months', ..., 'Verified',\n",
       "        'https://www.lendingclub.com/browse/loanDetail.action?loan_id=48010226', 'CA'],\n",
       "       ['', 'Current', '36 months', ..., 'Source Verified',\n",
       "        'https://www.lendingclub.com/browse/loanDetail.action?loan_id=57693261', 'NY'],\n",
       "       ['Sep-15', 'Current', '36 months', ..., 'Verified',\n",
       "        'https://www.lendingclub.com/browse/loanDetail.action?loan_id=59432726', 'PA'],\n",
       "       ...,\n",
       "       ['Jun-15', 'Current', '36 months', ..., 'Source Verified',\n",
       "        'https://www.lendingclub.com/browse/loanDetail.action?loan_id=50415990', 'CA'],\n",
       "       ['Apr-15', 'Current', '36 months', ..., 'Source Verified',\n",
       "        'https://www.lendingclub.com/browse/loanDetail.action?loan_id=46154151', 'OH'],\n",
       "       ['Dec-15', 'Current', '36 months', ..., '',\n",
       "        'https://www.lendingclub.com/browse/loanDetail.action?loan_id=66055249', 'IL']],\n",
       "      dtype='<U69')"
      ]
     },
     "execution_count": 12,
     "metadata": {},
     "output_type": "execute_result"
    }
   ],
   "source": [
    "loan_data_strings= np.genfromtxt('loan-data.csv',\n",
    "                                 delimiter=';',\n",
    "                                 skip_header=1,\n",
    "                                 autostrip=True,\n",
    "                                 usecols=column_strings,\n",
    "                                 dtype=str)\n",
    "loan_data_strings"
   ]
  },
  {
   "cell_type": "code",
   "execution_count": 13,
   "id": "332d2193-1f19-4d11-a26b-03e789609a54",
   "metadata": {},
   "outputs": [
    {
     "data": {
      "text/plain": [
       "array([[48010226.  ,    35000.  ,    35000.  ,       13.33,     1184.86,     9452.96],\n",
       "       [57693261.  ,    30000.  ,    30000.  , 68616520.  ,      938.57,     4679.7 ],\n",
       "       [59432726.  ,    15000.  ,    15000.  , 68616520.  ,      494.86,     1969.83],\n",
       "       ...,\n",
       "       [50415990.  ,    10000.  ,    10000.  , 68616520.  , 68616520.  ,     2185.64],\n",
       "       [46154151.  , 68616520.  ,    10000.  ,       16.55,      354.3 ,     3199.4 ],\n",
       "       [66055249.  ,    10000.  ,    10000.  , 68616520.  ,      309.97,      301.9 ]])"
      ]
     },
     "execution_count": 13,
     "metadata": {},
     "output_type": "execute_result"
    }
   ],
   "source": [
    "loan_data_numeric= np.genfromtxt('loan-data.csv',\n",
    "                                 delimiter=';',\n",
    "                                 skip_header=1,\n",
    "                                 autostrip=True,\n",
    "                                 usecols=column_numeric,\n",
    "                                filling_values= temp_fill)\n",
    "loan_data_numeric"
   ]
  },
  {
   "cell_type": "code",
   "execution_count": 14,
   "id": "92fb6876-4e70-4db4-9657-d11794a92379",
   "metadata": {},
   "outputs": [
    {
     "data": {
      "text/plain": [
       "array(['id', 'issue_d', 'loan_amnt', 'loan_status', 'funded_amnt', 'term', 'int_rate',\n",
       "       'installment', 'grade', 'sub_grade', 'verification_status', 'url', 'addr_state',\n",
       "       'total_pymnt'], dtype='<U19')"
      ]
     },
     "execution_count": 14,
     "metadata": {},
     "output_type": "execute_result"
    }
   ],
   "source": [
    "header_full= np.genfromtxt('loan-data.csv',\n",
    "                           delimiter=';',\n",
    "                           skip_footer= loan_data.shape[0],\n",
    "                           autostrip=True,\n",
    "                          dtype=str)\n",
    "header_full"
   ]
  },
  {
   "cell_type": "code",
   "execution_count": 15,
   "id": "071a815f-11a5-4c8d-968b-a01846c17cbe",
   "metadata": {},
   "outputs": [],
   "source": [
    "header_strings, header_numeric= header_full[column_strings], header_full[column_numeric]"
   ]
  },
  {
   "cell_type": "code",
   "execution_count": 16,
   "id": "cd49ecfe-e116-40f8-9345-6470e0ff7d8f",
   "metadata": {},
   "outputs": [
    {
     "data": {
      "text/plain": [
       "array(['id', 'loan_amnt', 'funded_amnt', 'int_rate', 'installment', 'total_pymnt'], dtype='<U19')"
      ]
     },
     "execution_count": 16,
     "metadata": {},
     "output_type": "execute_result"
    }
   ],
   "source": [
    "header_numeric"
   ]
  },
  {
   "cell_type": "code",
   "execution_count": 17,
   "id": "a3646f94-ce64-4b61-8392-07be3d8c9ab9",
   "metadata": {},
   "outputs": [
    {
     "data": {
      "text/plain": [
       "array(['issue_d', 'loan_status', 'term', 'grade', 'sub_grade', 'verification_status', 'url',\n",
       "       'addr_state'], dtype='<U19')"
      ]
     },
     "execution_count": 17,
     "metadata": {},
     "output_type": "execute_result"
    }
   ],
   "source": [
    "header_strings"
   ]
  },
  {
   "cell_type": "code",
   "execution_count": 18,
   "id": "96d7cb36-3292-4c9d-a93b-572e204f038f",
   "metadata": {},
   "outputs": [],
   "source": [
    "def checkpoint(file_name, checkpoint_header, checkpoint_data):\n",
    "    np.savez(file_name, header=checkpoint_header, data=checkpoint_data)\n",
    "    checkpoint_variable= np.load(file_name + '.npz')\n",
    "    return(checkpoint_variable)"
   ]
  },
  {
   "cell_type": "code",
   "execution_count": 19,
   "id": "e524d921-5c40-42a5-9b6c-640a8c14ad71",
   "metadata": {},
   "outputs": [],
   "source": [
    "checkpoint_test= checkpoint('checkpoint_test', header_strings, loan_data_strings)"
   ]
  },
  {
   "cell_type": "code",
   "execution_count": 20,
   "id": "7e81f2ae-028c-41ce-a5b9-8d58c5d3d446",
   "metadata": {},
   "outputs": [
    {
     "data": {
      "text/plain": [
       "array(['issue_d', 'loan_status', 'term', 'grade', 'sub_grade', 'verification_status', 'url',\n",
       "       'addr_state'], dtype='<U19')"
      ]
     },
     "execution_count": 20,
     "metadata": {},
     "output_type": "execute_result"
    }
   ],
   "source": [
    "checkpoint_test['header']"
   ]
  },
  {
   "cell_type": "code",
   "execution_count": 21,
   "id": "5d6f401b-4c33-40bd-b7d6-f0eab7c8f5b4",
   "metadata": {},
   "outputs": [
    {
     "data": {
      "text/plain": [
       "array([['May-15', 'Current', '36 months', ..., 'Verified',\n",
       "        'https://www.lendingclub.com/browse/loanDetail.action?loan_id=48010226', 'CA'],\n",
       "       ['', 'Current', '36 months', ..., 'Source Verified',\n",
       "        'https://www.lendingclub.com/browse/loanDetail.action?loan_id=57693261', 'NY'],\n",
       "       ['Sep-15', 'Current', '36 months', ..., 'Verified',\n",
       "        'https://www.lendingclub.com/browse/loanDetail.action?loan_id=59432726', 'PA'],\n",
       "       ...,\n",
       "       ['Jun-15', 'Current', '36 months', ..., 'Source Verified',\n",
       "        'https://www.lendingclub.com/browse/loanDetail.action?loan_id=50415990', 'CA'],\n",
       "       ['Apr-15', 'Current', '36 months', ..., 'Source Verified',\n",
       "        'https://www.lendingclub.com/browse/loanDetail.action?loan_id=46154151', 'OH'],\n",
       "       ['Dec-15', 'Current', '36 months', ..., '',\n",
       "        'https://www.lendingclub.com/browse/loanDetail.action?loan_id=66055249', 'IL']],\n",
       "      dtype='<U69')"
      ]
     },
     "execution_count": 21,
     "metadata": {},
     "output_type": "execute_result"
    }
   ],
   "source": [
    "checkpoint_test['data']"
   ]
  },
  {
   "cell_type": "code",
   "execution_count": 22,
   "id": "4e79ea3e-a1db-484d-9a1d-5b09a9830386",
   "metadata": {},
   "outputs": [],
   "source": [
    "header_strings[0]= 'issue-date'"
   ]
  },
  {
   "cell_type": "code",
   "execution_count": 23,
   "id": "64707b98-656d-4c2a-ae4e-9dff0411d18c",
   "metadata": {},
   "outputs": [
    {
     "data": {
      "text/plain": [
       "array(['May-15', '', 'Sep-15', ..., 'Jun-15', 'Apr-15', 'Dec-15'], dtype='<U69')"
      ]
     },
     "execution_count": 23,
     "metadata": {},
     "output_type": "execute_result"
    }
   ],
   "source": [
    "loan_data_strings[:,0]"
   ]
  },
  {
   "cell_type": "code",
   "execution_count": 24,
   "id": "fd60ac12-dea2-47c2-b415-6619434c887c",
   "metadata": {},
   "outputs": [
    {
     "data": {
      "text/plain": [
       "chararray(['May', '', 'Sep', ..., 'Jun', 'Apr', 'Dec'], dtype='<U69')"
      ]
     },
     "execution_count": 24,
     "metadata": {},
     "output_type": "execute_result"
    }
   ],
   "source": [
    "np.chararray.strip(loan_data_strings[:,0], '-15')"
   ]
  },
  {
   "cell_type": "code",
   "execution_count": 25,
   "id": "eca60545-c713-4fe2-b535-4e88f8403fd5",
   "metadata": {},
   "outputs": [],
   "source": [
    "(loan_data_strings[:,0])=np.chararray.strip(loan_data_strings[:,0], '-15')"
   ]
  },
  {
   "cell_type": "code",
   "execution_count": 26,
   "id": "083617b3-d9ef-429d-9723-3d76f688b089",
   "metadata": {},
   "outputs": [
    {
     "data": {
      "text/plain": [
       "array(['', 'Apr', 'Aug', 'Dec', 'Feb', 'Jan', 'Jul', 'Jun', 'Mar', 'May', 'Nov', 'Oct', 'Sep'],\n",
       "      dtype='<U69')"
      ]
     },
     "execution_count": 26,
     "metadata": {},
     "output_type": "execute_result"
    }
   ],
   "source": [
    "np.unique(loan_data_strings[:,0])"
   ]
  },
  {
   "cell_type": "code",
   "execution_count": 27,
   "id": "b0d3d6ca-0638-466d-b20d-4444610d1ada",
   "metadata": {},
   "outputs": [],
   "source": [
    "months= np.array(['', 'Jan', 'Feb', 'Mar', 'Apr', 'May', 'Jun', 'Jul', 'Aug', 'Sep', 'Oct', 'Nov', 'Dec'])"
   ]
  },
  {
   "cell_type": "code",
   "execution_count": 28,
   "id": "d83d9a88-86d3-447b-ab19-9c3ddc385068",
   "metadata": {},
   "outputs": [],
   "source": [
    "for i in range(13):\n",
    "    loan_data_strings[:,0]= np.where(loan_data_strings[:,0] == months[i],\n",
    "                                     i,\n",
    "                                     loan_data_strings[:,0])"
   ]
  },
  {
   "cell_type": "code",
   "execution_count": 29,
   "id": "69043a4a-7cd6-49ea-876d-5a76a65fcf16",
   "metadata": {},
   "outputs": [
    {
     "data": {
      "text/plain": [
       "array(['0', '1', '10', '11', '12', '2', '3', '4', '5', '6', '7', '8', '9'], dtype='<U69')"
      ]
     },
     "execution_count": 29,
     "metadata": {},
     "output_type": "execute_result"
    }
   ],
   "source": [
    "np.unique(loan_data_strings[:,0])"
   ]
  },
  {
   "cell_type": "code",
   "execution_count": 30,
   "id": "537851f2-d446-454c-9593-ddbd4ab6381b",
   "metadata": {},
   "outputs": [
    {
     "data": {
      "text/plain": [
       "array(['', 'Charged Off', 'Current', 'Default', 'Fully Paid', 'In Grace Period', 'Issued',\n",
       "       'Late (16-30 days)', 'Late (31-120 days)'], dtype='<U69')"
      ]
     },
     "execution_count": 30,
     "metadata": {},
     "output_type": "execute_result"
    }
   ],
   "source": [
    "np.unique(loan_data_strings[:,1])"
   ]
  },
  {
   "cell_type": "code",
   "execution_count": 31,
   "id": "a4128b58-7b86-4372-aea8-ad6c0a9aad17",
   "metadata": {},
   "outputs": [],
   "source": [
    "status_bad= np.array([' ', 'Charged Off', 'Late (31-120 days)'])"
   ]
  },
  {
   "cell_type": "code",
   "execution_count": 32,
   "id": "8460293d-a16c-42de-9027-c50cf1144715",
   "metadata": {},
   "outputs": [],
   "source": [
    "loan_data_strings[:,1] = np.where(np.isin(loan_data_strings[:,1],status_bad),0,1)"
   ]
  },
  {
   "cell_type": "code",
   "execution_count": 33,
   "id": "bc958902-96c3-4b3a-bb5d-284cb6cae915",
   "metadata": {},
   "outputs": [
    {
     "data": {
      "text/plain": [
       "array(['0', '1'], dtype='<U69')"
      ]
     },
     "execution_count": 33,
     "metadata": {},
     "output_type": "execute_result"
    }
   ],
   "source": [
    "np.unique(loan_data_strings[:,1])"
   ]
  },
  {
   "cell_type": "code",
   "execution_count": 34,
   "id": "9d76291b-ad6d-405a-a9de-d046f081df84",
   "metadata": {},
   "outputs": [
    {
     "data": {
      "text/plain": [
       "array(['', '36 months', '60 months'], dtype='<U69')"
      ]
     },
     "execution_count": 34,
     "metadata": {},
     "output_type": "execute_result"
    }
   ],
   "source": [
    "np.unique(loan_data_strings[:,2])"
   ]
  },
  {
   "cell_type": "code",
   "execution_count": 35,
   "id": "eacfbfb1-c186-4059-ac96-a6b75e58771c",
   "metadata": {},
   "outputs": [],
   "source": [
    "header_strings[2]= 'term_months'"
   ]
  },
  {
   "cell_type": "code",
   "execution_count": 36,
   "id": "4074ddf3-6894-4104-9659-1216a63ce3a0",
   "metadata": {},
   "outputs": [],
   "source": [
    "loan_data_strings[:,2]= np.chararray.strip(loan_data_strings[:,2], ' months')"
   ]
  },
  {
   "cell_type": "code",
   "execution_count": 37,
   "id": "a249aca9-80cb-4afe-8823-463453d57c6a",
   "metadata": {},
   "outputs": [],
   "source": [
    "loan_data_strings[:,2]= np.where(loan_data_strings[:,2]=='',\n",
    "                                 '60',\n",
    "                                 loan_data_strings[:,2])"
   ]
  },
  {
   "cell_type": "code",
   "execution_count": 38,
   "id": "16a4ef42-94ba-4615-9add-886c90ea9721",
   "metadata": {},
   "outputs": [
    {
     "data": {
      "text/plain": [
       "array(['36', '60'], dtype='<U69')"
      ]
     },
     "execution_count": 38,
     "metadata": {},
     "output_type": "execute_result"
    }
   ],
   "source": [
    "np.unique(loan_data_strings[:,2])"
   ]
  },
  {
   "cell_type": "code",
   "execution_count": 39,
   "id": "c9af4387-0f20-4ea7-ac64-5d20de78960d",
   "metadata": {},
   "outputs": [
    {
     "data": {
      "text/plain": [
       "array(['', 'A', 'B', 'C', 'D', 'E', 'F', 'G'], dtype='<U69')"
      ]
     },
     "execution_count": 39,
     "metadata": {},
     "output_type": "execute_result"
    }
   ],
   "source": [
    "np.unique(loan_data_strings[:,3])"
   ]
  },
  {
   "cell_type": "code",
   "execution_count": 40,
   "id": "44626eca-e04e-4cca-9647-2b38605404c9",
   "metadata": {},
   "outputs": [
    {
     "data": {
      "text/plain": [
       "array(['', 'A1', 'A2', 'A3', 'A4', 'A5', 'B1', 'B2', 'B3', 'B4', 'B5', 'C1', 'C2', 'C3', 'C4',\n",
       "       'C5', 'D1', 'D2', 'D3', 'D4', 'D5', 'E1', 'E2', 'E3', 'E4', 'E5', 'F1', 'F2', 'F3', 'F4',\n",
       "       'F5', 'G1', 'G2', 'G3', 'G4', 'G5'], dtype='<U69')"
      ]
     },
     "execution_count": 40,
     "metadata": {},
     "output_type": "execute_result"
    }
   ],
   "source": [
    "np.unique(loan_data_strings[:,4])"
   ]
  },
  {
   "cell_type": "code",
   "execution_count": 41,
   "id": "daac0da7-7ea7-436d-8875-13fe37ff0448",
   "metadata": {},
   "outputs": [],
   "source": [
    "for i in np.unique(loan_data_strings[:,3])[1:]:\n",
    "    loan_data_strings[:,4]=np.where((loan_data_strings[:,4]=='') & (loan_data_strings[:,3]==i),\n",
    "             i+'5',\n",
    "             loan_data_strings[:,4])"
   ]
  },
  {
   "cell_type": "code",
   "execution_count": 42,
   "id": "463259de-1ac8-4ec3-8bcc-0d95821113a7",
   "metadata": {},
   "outputs": [
    {
     "data": {
      "text/plain": [
       "(array(['', 'A1', 'A2', 'A3', 'A4', 'A5', 'B1', 'B2', 'B3', 'B4', 'B5', 'C1', 'C2', 'C3', 'C4',\n",
       "        'C5', 'D1', 'D2', 'D3', 'D4', 'D5', 'E1', 'E2', 'E3', 'E4', 'E5', 'F1', 'F2', 'F3', 'F4',\n",
       "        'F5', 'G1', 'G2', 'G3', 'G4', 'G5'], dtype='<U69'),\n",
       " array([  9, 285, 278, 239, 323, 592, 509, 517, 530, 553, 633, 629, 567, 586, 564, 577, 391, 267,\n",
       "        250, 255, 288, 235, 162, 171, 139, 160,  94,  52,  34,  43,  24,  19,  10,   3,   7,   5],\n",
       "       dtype=int64))"
      ]
     },
     "execution_count": 42,
     "metadata": {},
     "output_type": "execute_result"
    }
   ],
   "source": [
    "np.unique(loan_data_strings[:,4],return_counts=True)"
   ]
  },
  {
   "cell_type": "code",
   "execution_count": 43,
   "id": "b515e870-d4fd-4dd1-8ce9-7599cd69c94b",
   "metadata": {},
   "outputs": [],
   "source": [
    "for i in np.unique(loan_data_strings[:,3])[1:]:\n",
    "    loan_data_strings[:,4]= np.where((loan_data_strings[:,4]==''),\n",
    "                                      'H1',\n",
    "                                      loan_data_strings[:,4])"
   ]
  },
  {
   "cell_type": "code",
   "execution_count": 44,
   "id": "78ecbf6d-97b4-4a66-8e80-48b7757b834a",
   "metadata": {},
   "outputs": [
    {
     "data": {
      "text/plain": [
       "array(['A1', 'A2', 'A3', 'A4', 'A5', 'B1', 'B2', 'B3', 'B4', 'B5', 'C1', 'C2', 'C3', 'C4', 'C5',\n",
       "       'D1', 'D2', 'D3', 'D4', 'D5', 'E1', 'E2', 'E3', 'E4', 'E5', 'F1', 'F2', 'F3', 'F4', 'F5',\n",
       "       'G1', 'G2', 'G3', 'G4', 'G5', 'H1'], dtype='<U69')"
      ]
     },
     "execution_count": 44,
     "metadata": {},
     "output_type": "execute_result"
    }
   ],
   "source": [
    "np.unique(loan_data_strings[:,4])"
   ]
  },
  {
   "cell_type": "code",
   "execution_count": 45,
   "id": "1570fdeb-d6d7-4e53-ba62-5fe8d53fd0e4",
   "metadata": {},
   "outputs": [],
   "source": [
    "loan_data_strings= np.delete(loan_data_strings, 3, axis=1)"
   ]
  },
  {
   "cell_type": "code",
   "execution_count": 46,
   "id": "e4ef3704-2137-432f-8e08-126c6bc9ae71",
   "metadata": {},
   "outputs": [],
   "source": [
    "header_strings= np.delete(header_strings, 3)"
   ]
  },
  {
   "cell_type": "code",
   "execution_count": 47,
   "id": "510ed794-fb33-4f23-bcd3-579857342320",
   "metadata": {},
   "outputs": [
    {
     "data": {
      "text/plain": [
       "array(['C3', 'A5', 'B5', ..., 'A5', 'D2', 'A4'], dtype='<U69')"
      ]
     },
     "execution_count": 47,
     "metadata": {},
     "output_type": "execute_result"
    }
   ],
   "source": [
    "loan_data_strings[:,3]"
   ]
  },
  {
   "cell_type": "code",
   "execution_count": 48,
   "id": "43492384-73d1-4517-b342-7d9e307ef67b",
   "metadata": {},
   "outputs": [
    {
     "data": {
      "text/plain": [
       "'sub_grade'"
      ]
     },
     "execution_count": 48,
     "metadata": {},
     "output_type": "execute_result"
    }
   ],
   "source": [
    "header_strings[3]"
   ]
  },
  {
   "cell_type": "code",
   "execution_count": 49,
   "id": "dd88f5e8-7fa8-4799-af79-6634d904f55c",
   "metadata": {},
   "outputs": [],
   "source": [
    "keys= list(np.unique(loan_data_strings[:,3]))\n",
    "values= list(range(1, loan_data_strings[:,3].shape[0] +1))\n",
    "dict_sub_grade= dict(zip(keys,values))"
   ]
  },
  {
   "cell_type": "code",
   "execution_count": 50,
   "id": "d704d32b-f040-4fee-83d8-4ac792113a44",
   "metadata": {},
   "outputs": [
    {
     "data": {
      "text/plain": [
       "{'A1': 1,\n",
       " 'A2': 2,\n",
       " 'A3': 3,\n",
       " 'A4': 4,\n",
       " 'A5': 5,\n",
       " 'B1': 6,\n",
       " 'B2': 7,\n",
       " 'B3': 8,\n",
       " 'B4': 9,\n",
       " 'B5': 10,\n",
       " 'C1': 11,\n",
       " 'C2': 12,\n",
       " 'C3': 13,\n",
       " 'C4': 14,\n",
       " 'C5': 15,\n",
       " 'D1': 16,\n",
       " 'D2': 17,\n",
       " 'D3': 18,\n",
       " 'D4': 19,\n",
       " 'D5': 20,\n",
       " 'E1': 21,\n",
       " 'E2': 22,\n",
       " 'E3': 23,\n",
       " 'E4': 24,\n",
       " 'E5': 25,\n",
       " 'F1': 26,\n",
       " 'F2': 27,\n",
       " 'F3': 28,\n",
       " 'F4': 29,\n",
       " 'F5': 30,\n",
       " 'G1': 31,\n",
       " 'G2': 32,\n",
       " 'G3': 33,\n",
       " 'G4': 34,\n",
       " 'G5': 35,\n",
       " 'H1': 36}"
      ]
     },
     "execution_count": 50,
     "metadata": {},
     "output_type": "execute_result"
    }
   ],
   "source": [
    "dict_sub_grade"
   ]
  },
  {
   "cell_type": "code",
   "execution_count": 51,
   "id": "1986ae1a-c795-47f7-ae44-0336ff6131cb",
   "metadata": {},
   "outputs": [],
   "source": [
    "for i in np.unique(loan_data_strings[:,3]):\n",
    "    loan_data_strings[:,3]= np.where((loan_data_strings[:,3]==i),\n",
    "                                      dict_sub_grade[i],\n",
    "                                      loan_data_strings[:,3])"
   ]
  },
  {
   "cell_type": "code",
   "execution_count": 52,
   "id": "d41196ff-fd08-4d12-895e-14f2c36dc6e0",
   "metadata": {},
   "outputs": [
    {
     "data": {
      "text/plain": [
       "array(['1', '10', '11', '12', '13', '14', '15', '16', '17', '18', '19', '2', '20', '21', '22',\n",
       "       '23', '24', '25', '26', '27', '28', '29', '3', '30', '31', '32', '33', '34', '35', '36',\n",
       "       '4', '5', '6', '7', '8', '9'], dtype='<U69')"
      ]
     },
     "execution_count": 52,
     "metadata": {},
     "output_type": "execute_result"
    }
   ],
   "source": [
    "np.unique(loan_data_strings[:,3])"
   ]
  },
  {
   "cell_type": "code",
   "execution_count": 53,
   "id": "0ce77e50-6618-49c3-aced-db670b046b7a",
   "metadata": {},
   "outputs": [
    {
     "data": {
      "text/plain": [
       "array(['', 'Not Verified', 'Source Verified', 'Verified'], dtype='<U69')"
      ]
     },
     "execution_count": 53,
     "metadata": {},
     "output_type": "execute_result"
    }
   ],
   "source": [
    "np.unique(loan_data_strings[:,4])"
   ]
  },
  {
   "cell_type": "code",
   "execution_count": 54,
   "id": "62dd136c-315a-49c4-bc55-d39a3eeb0a53",
   "metadata": {},
   "outputs": [],
   "source": [
    "loan_data_strings[:,4]= np.where((loan_data_strings[:,4]== '') | (loan_data_strings[:,4]== 'Not Verified'), 0, 1)"
   ]
  },
  {
   "cell_type": "code",
   "execution_count": 55,
   "id": "d783dc10-4ecb-40a3-a099-2149853c70db",
   "metadata": {},
   "outputs": [
    {
     "data": {
      "text/plain": [
       "array(['0', '1'], dtype='<U69')"
      ]
     },
     "execution_count": 55,
     "metadata": {},
     "output_type": "execute_result"
    }
   ],
   "source": [
    "np.unique(loan_data_strings[:,4])"
   ]
  },
  {
   "cell_type": "code",
   "execution_count": 56,
   "id": "20bd409d-3c12-496d-b16b-49b0011f1054",
   "metadata": {},
   "outputs": [
    {
     "data": {
      "text/plain": [
       "array(['https://www.lendingclub.com/browse/loanDetail.action?loan_id=48010226',\n",
       "       'https://www.lendingclub.com/browse/loanDetail.action?loan_id=57693261',\n",
       "       'https://www.lendingclub.com/browse/loanDetail.action?loan_id=59432726', ...,\n",
       "       'https://www.lendingclub.com/browse/loanDetail.action?loan_id=50415990',\n",
       "       'https://www.lendingclub.com/browse/loanDetail.action?loan_id=46154151',\n",
       "       'https://www.lendingclub.com/browse/loanDetail.action?loan_id=66055249'], dtype='<U69')"
      ]
     },
     "execution_count": 56,
     "metadata": {},
     "output_type": "execute_result"
    }
   ],
   "source": [
    "loan_data_strings[:,5]"
   ]
  },
  {
   "cell_type": "code",
   "execution_count": 57,
   "id": "13ff5839-f585-497a-8bf5-91473b53139e",
   "metadata": {},
   "outputs": [],
   "source": [
    "loan_data_strings[:,5]= np.chararray.strip(loan_data_strings[:,5], 'https://www.lendingclub.com/browse/loanDetail.action?loan_id=')"
   ]
  },
  {
   "cell_type": "code",
   "execution_count": 58,
   "id": "4792b213-87d0-49d8-aa29-f53a055c7858",
   "metadata": {},
   "outputs": [
    {
     "data": {
      "text/plain": [
       "array([48010226., 57693261., 59432726., ..., 50415990., 46154151., 66055249.])"
      ]
     },
     "execution_count": 58,
     "metadata": {},
     "output_type": "execute_result"
    }
   ],
   "source": [
    "loan_data_numeric[:,0]"
   ]
  },
  {
   "cell_type": "code",
   "execution_count": 59,
   "id": "45c280a6-1ab1-4f17-b577-04c6c6b3be0c",
   "metadata": {},
   "outputs": [
    {
     "data": {
      "text/plain": [
       "array(['48010226', '57693261', '59432726', ..., '50415990', '46154151', '66055249'], dtype='<U69')"
      ]
     },
     "execution_count": 59,
     "metadata": {},
     "output_type": "execute_result"
    }
   ],
   "source": [
    "loan_data_strings[:,5]"
   ]
  },
  {
   "cell_type": "code",
   "execution_count": 60,
   "id": "c0f6bbc3-d098-40fa-aca0-cefc81649aef",
   "metadata": {},
   "outputs": [
    {
     "data": {
      "text/plain": [
       "array([48010226, 57693261, 59432726, ..., 50415990, 46154151, 66055249])"
      ]
     },
     "execution_count": 60,
     "metadata": {},
     "output_type": "execute_result"
    }
   ],
   "source": [
    "loan_data_numeric[:,0].astype(dtype='int32')"
   ]
  },
  {
   "cell_type": "code",
   "execution_count": 61,
   "id": "bfbd1874-01a3-4d83-ab09-b21ade7aaf47",
   "metadata": {},
   "outputs": [
    {
     "data": {
      "text/plain": [
       "array([48010226, 57693261, 59432726, ..., 50415990, 46154151, 66055249])"
      ]
     },
     "execution_count": 61,
     "metadata": {},
     "output_type": "execute_result"
    }
   ],
   "source": [
    "loan_data_strings[:,5].astype(dtype='int32')"
   ]
  },
  {
   "cell_type": "code",
   "execution_count": 62,
   "id": "c4ddbdcb-e7cd-43e2-98b5-a57a61b42712",
   "metadata": {},
   "outputs": [
    {
     "data": {
      "text/plain": [
       "True"
      ]
     },
     "execution_count": 62,
     "metadata": {},
     "output_type": "execute_result"
    }
   ],
   "source": [
    "np.array_equal(loan_data_numeric[:,0].astype(dtype='int32'), loan_data_strings[:,5].astype(dtype='int32'))"
   ]
  },
  {
   "cell_type": "code",
   "execution_count": 63,
   "id": "130d4e80-8960-463b-9eac-e1a133c116bc",
   "metadata": {},
   "outputs": [],
   "source": [
    "loan_data_strings= np.delete(loan_data_strings, 5, axis=1)\n",
    "header_strings= np.delete(header_strings, 5)"
   ]
  },
  {
   "cell_type": "code",
   "execution_count": 64,
   "id": "64e7c65c-f555-4bb6-8ae6-14f6009baba5",
   "metadata": {},
   "outputs": [
    {
     "data": {
      "text/plain": [
       "array(['', 'AK', 'AL', 'AR', 'AZ', 'CA', 'CO', 'CT', 'DC', 'DE', 'FL', 'GA', 'HI', 'IL', 'IN',\n",
       "       'KS', 'KY', 'LA', 'MA', 'MD', 'ME', 'MI', 'MN', 'MO', 'MS', 'MT', 'NC', 'ND', 'NE', 'NH',\n",
       "       'NJ', 'NM', 'NV', 'NY', 'OH', 'OK', 'OR', 'PA', 'RI', 'SC', 'SD', 'TN', 'TX', 'UT', 'VA',\n",
       "       'VT', 'WA', 'WI', 'WV', 'WY'], dtype='<U69')"
      ]
     },
     "execution_count": 64,
     "metadata": {},
     "output_type": "execute_result"
    }
   ],
   "source": [
    "np.unique(loan_data_strings[:,5])"
   ]
  },
  {
   "cell_type": "code",
   "execution_count": 65,
   "id": "9c3b3581-349c-4829-9f90-376c408940b7",
   "metadata": {},
   "outputs": [
    {
     "data": {
      "text/plain": [
       "50"
      ]
     },
     "execution_count": 65,
     "metadata": {},
     "output_type": "execute_result"
    }
   ],
   "source": [
    "np.unique(loan_data_strings[:,5]).size"
   ]
  },
  {
   "cell_type": "code",
   "execution_count": 66,
   "id": "7a879f37-5f7b-4b98-8c98-a105351b81b1",
   "metadata": {},
   "outputs": [
    {
     "data": {
      "text/plain": [
       "(array(['', 'AK', 'AL', 'AR', 'AZ', 'CA', 'CO', 'CT', 'DC', 'DE', 'FL', 'GA', 'HI', 'IL', 'IN',\n",
       "        'KS', 'KY', 'LA', 'MA', 'MD', 'ME', 'MI', 'MN', 'MO', 'MS', 'MT', 'NC', 'ND', 'NE', 'NH',\n",
       "        'NJ', 'NM', 'NV', 'NY', 'OH', 'OK', 'OR', 'PA', 'RI', 'SC', 'SD', 'TN', 'TX', 'UT', 'VA',\n",
       "        'VT', 'WA', 'WI', 'WV', 'WY'], dtype='<U69'),\n",
       " array([ 500,   26,  119,   74,  220, 1336,  201,  143,   27,   27,  690,  321,   44,  389,  152,\n",
       "          84,   84,  116,  210,  222,   10,  267,  156,  160,   61,   28,  261,   16,   25,   58,\n",
       "         341,   57,  130,  777,  312,   83,  108,  320,   40,  107,   24,  143,  758,   74,  242,\n",
       "          17,  216,  148,   49,   27], dtype=int64))"
      ]
     },
     "execution_count": 66,
     "metadata": {},
     "output_type": "execute_result"
    }
   ],
   "source": [
    "np.unique(loan_data_strings[:,5], return_counts=True)"
   ]
  },
  {
   "cell_type": "code",
   "execution_count": 67,
   "id": "d2814763-806d-41d1-b970-d4782c7f93e8",
   "metadata": {},
   "outputs": [
    {
     "data": {
      "text/plain": [
       "(array(['CA', 'NY', 'TX', 'FL', '', 'IL', 'NJ', 'GA', 'PA', 'OH', 'MI', 'NC', 'VA', 'MD', 'AZ',\n",
       "        'WA', 'MA', 'CO', 'MO', 'MN', 'IN', 'WI', 'CT', 'TN', 'NV', 'AL', 'LA', 'OR', 'SC', 'KY',\n",
       "        'KS', 'OK', 'UT', 'AR', 'MS', 'NH', 'NM', 'WV', 'HI', 'RI', 'MT', 'DE', 'DC', 'WY', 'AK',\n",
       "        'NE', 'SD', 'VT', 'ND', 'ME'], dtype='<U69'),\n",
       " array([1336,  777,  758,  690,  500,  389,  341,  321,  320,  312,  267,  261,  242,  222,  220,\n",
       "         216,  210,  201,  160,  156,  152,  148,  143,  143,  130,  119,  116,  108,  107,   84,\n",
       "          84,   83,   74,   74,   61,   58,   57,   49,   44,   40,   28,   27,   27,   27,   26,\n",
       "          25,   24,   17,   16,   10], dtype=int64))"
      ]
     },
     "execution_count": 67,
     "metadata": {},
     "output_type": "execute_result"
    }
   ],
   "source": [
    "states_name, states_count= np.unique(loan_data_strings[:,5], return_counts=True)\n",
    "states_count_sorted= np.argsort(-states_count)\n",
    "states_name[states_count_sorted], states_count[states_count_sorted]"
   ]
  },
  {
   "cell_type": "code",
   "execution_count": 68,
   "id": "5f245d33-406f-4948-895e-b3dc773500d4",
   "metadata": {},
   "outputs": [],
   "source": [
    "loan_data_strings[:,5]= np.where(loan_data_strings[:,5]=='',\n",
    "                                 0,\n",
    "                                 loan_data_strings[:,5])"
   ]
  },
  {
   "cell_type": "code",
   "execution_count": 69,
   "id": "8d9a4475-b857-4bee-a4df-9ca76ab9b0ed",
   "metadata": {},
   "outputs": [
    {
     "data": {
      "text/plain": [
       "array(['0', 'AK', 'AL', 'AR', 'AZ', 'CA', 'CO', 'CT', 'DC', 'DE', 'FL', 'GA', 'HI', 'IL', 'IN',\n",
       "       'KS', 'KY', 'LA', 'MA', 'MD', 'ME', 'MI', 'MN', 'MO', 'MS', 'MT', 'NC', 'ND', 'NE', 'NH',\n",
       "       'NJ', 'NM', 'NV', 'NY', 'OH', 'OK', 'OR', 'PA', 'RI', 'SC', 'SD', 'TN', 'TX', 'UT', 'VA',\n",
       "       'VT', 'WA', 'WI', 'WV', 'WY'], dtype='<U69')"
      ]
     },
     "execution_count": 69,
     "metadata": {},
     "output_type": "execute_result"
    }
   ],
   "source": [
    "np.unique(loan_data_strings[:,5])"
   ]
  },
  {
   "cell_type": "code",
   "execution_count": 70,
   "id": "16dfeb7f-ec44-41ba-a22d-ea7355fca439",
   "metadata": {},
   "outputs": [],
   "source": [
    "states_west= np.array(['WA','OR','CA','NV','ID','MT','WY','UT','CO','AZ','NM','HI','AK'])\n",
    "states_south= np.array(['TX','OK','AR','LA','MS','AL','TN','KY','FL','GA','SC','NC','VA','WV','MD','DE','DC'])\n",
    "states_midwest= np.array(['ND','SD','NE','KS','MN','IA','MO','WI','IL','IN','MI','OH'])\n",
    "states_east= np.array(['PA','NY','NJ','CT','MA','VT','NH','ME','RI'])"
   ]
  },
  {
   "cell_type": "code",
   "execution_count": 71,
   "id": "bab24b2f-884a-4ee5-8638-a72d33699ca3",
   "metadata": {},
   "outputs": [],
   "source": [
    "loan_data_strings[:,5]= np.where(np.isin(loan_data_strings[:,5], states_west),1, loan_data_strings[:,5])\n",
    "loan_data_strings[:,5]= np.where(np.isin(loan_data_strings[:,5], states_south),2, loan_data_strings[:,5])\n",
    "loan_data_strings[:,5]= np.where(np.isin(loan_data_strings[:,5], states_midwest),3, loan_data_strings[:,5])\n",
    "loan_data_strings[:,5]= np.where(np.isin(loan_data_strings[:,5], states_east),4, loan_data_strings[:,5])"
   ]
  },
  {
   "cell_type": "code",
   "execution_count": 72,
   "id": "1713369f-105f-4723-9ce9-cd54b4e4131f",
   "metadata": {},
   "outputs": [
    {
     "data": {
      "text/plain": [
       "array(['0', '1', '2', '3', '4'], dtype='<U69')"
      ]
     },
     "execution_count": 72,
     "metadata": {},
     "output_type": "execute_result"
    }
   ],
   "source": [
    "np.unique(loan_data_strings[:,5])"
   ]
  },
  {
   "cell_type": "code",
   "execution_count": 73,
   "id": "9d851457-2a80-4691-8fa4-e1096f9067d6",
   "metadata": {},
   "outputs": [
    {
     "data": {
      "text/plain": [
       "array([['5', '1', '36', '13', '1', '1'],\n",
       "       ['0', '1', '36', '5', '1', '4'],\n",
       "       ['9', '1', '36', '10', '1', '4'],\n",
       "       ...,\n",
       "       ['6', '1', '36', '5', '1', '1'],\n",
       "       ['4', '1', '36', '17', '1', '3'],\n",
       "       ['12', '1', '36', '4', '0', '3']], dtype='<U69')"
      ]
     },
     "execution_count": 73,
     "metadata": {},
     "output_type": "execute_result"
    }
   ],
   "source": [
    "loan_data_strings"
   ]
  },
  {
   "cell_type": "code",
   "execution_count": 74,
   "id": "9d53b458-d3fd-43cc-940e-d804ba69bf5d",
   "metadata": {},
   "outputs": [],
   "source": [
    "loan_data_strings= loan_data_strings.astype(int)"
   ]
  },
  {
   "cell_type": "code",
   "execution_count": 75,
   "id": "2ab9af6a-ded9-4eb9-b7cb-d2f6feb33199",
   "metadata": {},
   "outputs": [
    {
     "data": {
      "text/plain": [
       "array([[ 5,  1, 36, 13,  1,  1],\n",
       "       [ 0,  1, 36,  5,  1,  4],\n",
       "       [ 9,  1, 36, 10,  1,  4],\n",
       "       ...,\n",
       "       [ 6,  1, 36,  5,  1,  1],\n",
       "       [ 4,  1, 36, 17,  1,  3],\n",
       "       [12,  1, 36,  4,  0,  3]])"
      ]
     },
     "execution_count": 75,
     "metadata": {},
     "output_type": "execute_result"
    }
   ],
   "source": [
    "loan_data_strings"
   ]
  },
  {
   "cell_type": "code",
   "execution_count": 76,
   "id": "728fd5d7-1fa8-4f00-ac3f-03654e7933fb",
   "metadata": {},
   "outputs": [],
   "source": [
    "checkpoint_strings= checkpoint('checkpoint_strings', header_strings, loan_data_strings)"
   ]
  },
  {
   "cell_type": "code",
   "execution_count": 77,
   "id": "c2037c28-5cc0-4a6f-9673-0b6c31949f1a",
   "metadata": {},
   "outputs": [
    {
     "data": {
      "text/plain": [
       "array(['issue-date', 'loan_status', 'term_months', 'sub_grade', 'verification_status',\n",
       "       'addr_state'], dtype='<U19')"
      ]
     },
     "execution_count": 77,
     "metadata": {},
     "output_type": "execute_result"
    }
   ],
   "source": [
    "checkpoint_strings['header']"
   ]
  },
  {
   "cell_type": "code",
   "execution_count": 78,
   "id": "222ef3da-3b8c-461a-ac99-ad344e70517c",
   "metadata": {},
   "outputs": [
    {
     "data": {
      "text/plain": [
       "array([[ 5,  1, 36, 13,  1,  1],\n",
       "       [ 0,  1, 36,  5,  1,  4],\n",
       "       [ 9,  1, 36, 10,  1,  4],\n",
       "       ...,\n",
       "       [ 6,  1, 36,  5,  1,  1],\n",
       "       [ 4,  1, 36, 17,  1,  3],\n",
       "       [12,  1, 36,  4,  0,  3]])"
      ]
     },
     "execution_count": 78,
     "metadata": {},
     "output_type": "execute_result"
    }
   ],
   "source": [
    "checkpoint_strings['data']"
   ]
  },
  {
   "cell_type": "code",
   "execution_count": 79,
   "id": "1b92653f-192e-464b-a332-adc59d51d419",
   "metadata": {},
   "outputs": [
    {
     "data": {
      "text/plain": [
       "array([[48010226.  ,    35000.  ,    35000.  ,       13.33,     1184.86,     9452.96],\n",
       "       [57693261.  ,    30000.  ,    30000.  , 68616520.  ,      938.57,     4679.7 ],\n",
       "       [59432726.  ,    15000.  ,    15000.  , 68616520.  ,      494.86,     1969.83],\n",
       "       ...,\n",
       "       [50415990.  ,    10000.  ,    10000.  , 68616520.  , 68616520.  ,     2185.64],\n",
       "       [46154151.  , 68616520.  ,    10000.  ,       16.55,      354.3 ,     3199.4 ],\n",
       "       [66055249.  ,    10000.  ,    10000.  , 68616520.  ,      309.97,      301.9 ]])"
      ]
     },
     "execution_count": 79,
     "metadata": {},
     "output_type": "execute_result"
    }
   ],
   "source": [
    "loan_data_numeric"
   ]
  },
  {
   "cell_type": "code",
   "execution_count": 80,
   "id": "a38b2f2d-823b-4ea3-b12b-9e33a8842910",
   "metadata": {},
   "outputs": [
    {
     "data": {
      "text/plain": [
       "array(['id', 'loan_amnt', 'funded_amnt', 'int_rate', 'installment', 'total_pymnt'], dtype='<U19')"
      ]
     },
     "execution_count": 80,
     "metadata": {},
     "output_type": "execute_result"
    }
   ],
   "source": [
    "header_numeric"
   ]
  },
  {
   "cell_type": "code",
   "execution_count": 81,
   "id": "49d441e6-afa5-4cb1-a9bb-7b4d4d763bf3",
   "metadata": {},
   "outputs": [
    {
     "data": {
      "text/plain": [
       "0"
      ]
     },
     "execution_count": 81,
     "metadata": {},
     "output_type": "execute_result"
    }
   ],
   "source": [
    "np.isin(loan_data_numeric[:,0], temp_fill).sum()"
   ]
  },
  {
   "cell_type": "code",
   "execution_count": 82,
   "id": "f1d5b4e5-5bcc-49d9-95c9-663afe731db5",
   "metadata": {},
   "outputs": [
    {
     "data": {
      "text/plain": [
       "array([[  373332.  ,         nan,     1000.  ,         nan,     1000.  ,         nan,        6.  ,\n",
       "              31.42,         nan,         nan,         nan,         nan,         nan,        0.  ],\n",
       "       [54015809.19,         nan,    15273.46,         nan,    15311.04,         nan,       16.62,\n",
       "             440.92,         nan,         nan,         nan,         nan,         nan,     3143.85],\n",
       "       [68616519.  ,         nan,    35000.  ,         nan,    35000.  ,         nan,       28.99,\n",
       "            1372.97,         nan,         nan,         nan,         nan,         nan,    41913.62]])"
      ]
     },
     "execution_count": 82,
     "metadata": {},
     "output_type": "execute_result"
    }
   ],
   "source": [
    "temp_stats"
   ]
  },
  {
   "cell_type": "code",
   "execution_count": 83,
   "id": "12e2c992-64a6-44df-a696-214917e62b19",
   "metadata": {},
   "outputs": [
    {
     "data": {
      "text/plain": [
       "array([ 0,  2,  4,  6,  7, 13], dtype=int64)"
      ]
     },
     "execution_count": 83,
     "metadata": {},
     "output_type": "execute_result"
    }
   ],
   "source": [
    "column_numeric"
   ]
  },
  {
   "cell_type": "code",
   "execution_count": 84,
   "id": "aa37bc1e-57c2-4ded-899a-b5ecb5ea0194",
   "metadata": {},
   "outputs": [
    {
     "data": {
      "text/plain": [
       "array([[  373332.  ,     1000.  ,     1000.  ,        6.  ,       31.42,        0.  ],\n",
       "       [54015809.19,    15273.46,    15311.04,       16.62,      440.92,     3143.85],\n",
       "       [68616519.  ,    35000.  ,    35000.  ,       28.99,     1372.97,    41913.62]])"
      ]
     },
     "execution_count": 84,
     "metadata": {},
     "output_type": "execute_result"
    }
   ],
   "source": [
    "temp_stats[:, column_numeric]"
   ]
  },
  {
   "cell_type": "code",
   "execution_count": 85,
   "id": "e66c0d44-e34f-4cd1-8b6e-f24f46c19422",
   "metadata": {},
   "outputs": [],
   "source": [
    "loan_data_numeric[:,2]= np.where(loan_data_numeric[:,2] == temp_fill,\n",
    "                                 temp_stats[0, column_numeric[2]],\n",
    "                                 loan_data_numeric[:,2])"
   ]
  },
  {
   "cell_type": "code",
   "execution_count": 86,
   "id": "f12c008b-013a-4ef7-8e86-7cfecee9c21a",
   "metadata": {},
   "outputs": [],
   "source": [
    "for i in [1,3,4,5]:\n",
    "    loan_data_numeric[:,i]= np.where(loan_data_numeric[:,i] == temp_fill,\n",
    "                                 temp_stats[2, column_numeric[i]],\n",
    "                                 loan_data_numeric[:,i])"
   ]
  },
  {
   "cell_type": "code",
   "execution_count": 87,
   "id": "91db585a-c35e-44d6-baab-f4ef494227f7",
   "metadata": {},
   "outputs": [
    {
     "data": {
      "text/plain": [
       "array([[48010226.  ,    35000.  ,    35000.  ,       13.33,     1184.86,     9452.96],\n",
       "       [57693261.  ,    30000.  ,    30000.  ,       28.99,      938.57,     4679.7 ],\n",
       "       [59432726.  ,    15000.  ,    15000.  ,       28.99,      494.86,     1969.83],\n",
       "       ...,\n",
       "       [50415990.  ,    10000.  ,    10000.  ,       28.99,     1372.97,     2185.64],\n",
       "       [46154151.  ,    35000.  ,    10000.  ,       16.55,      354.3 ,     3199.4 ],\n",
       "       [66055249.  ,    10000.  ,    10000.  ,       28.99,      309.97,      301.9 ]])"
      ]
     },
     "execution_count": 87,
     "metadata": {},
     "output_type": "execute_result"
    }
   ],
   "source": [
    "loan_data_numeric"
   ]
  },
  {
   "cell_type": "code",
   "execution_count": 88,
   "id": "3fa116d4-0798-4765-a767-d2b40ecc718e",
   "metadata": {},
   "outputs": [
    {
     "data": {
      "text/plain": [
       "array([1.21, 1.15, 1.12, 1.12, 1.15, 1.14, 1.12, 1.17, 1.15, 1.15, 1.11, 1.11])"
      ]
     },
     "execution_count": 88,
     "metadata": {},
     "output_type": "execute_result"
    }
   ],
   "source": [
    "EUR_USD= np.genfromtxt('EUR-USD.csv', delimiter=',', autostrip=True, skip_header=1, usecols=1)\n",
    "EUR_USD"
   ]
  },
  {
   "cell_type": "code",
   "execution_count": 89,
   "id": "100fcf53-cc5b-42e9-bfea-58a25c853e6c",
   "metadata": {},
   "outputs": [
    {
     "data": {
      "text/plain": [
       "array([ 5,  0,  9, ...,  6,  4, 12])"
      ]
     },
     "execution_count": 89,
     "metadata": {},
     "output_type": "execute_result"
    }
   ],
   "source": [
    "loan_data_strings[:,0]"
   ]
  },
  {
   "cell_type": "code",
   "execution_count": 90,
   "id": "a687790b-ee33-4069-b681-6324ff30e482",
   "metadata": {},
   "outputs": [],
   "source": [
    "exchange_rate= loan_data_strings[:,0]"
   ]
  },
  {
   "cell_type": "code",
   "execution_count": 91,
   "id": "d35c0aee-f659-4e48-aa45-a674c487df9a",
   "metadata": {},
   "outputs": [],
   "source": [
    "for i in range(1,13):\n",
    "    exchange_rate= np.where(exchange_rate==i,\n",
    "                            EUR_USD[i-1],\n",
    "                            exchange_rate)\n",
    "\n",
    "exchange_rate= np.where(exchange_rate==0,\n",
    "                        np.mean(EUR_USD),\n",
    "                        exchange_rate)"
   ]
  },
  {
   "cell_type": "code",
   "execution_count": 92,
   "id": "d75cb263-92ee-411e-adcb-f2b166fb2285",
   "metadata": {},
   "outputs": [
    {
     "data": {
      "text/plain": [
       "array([1.15, 1.14, 1.15, ..., 1.14, 1.12, 1.11])"
      ]
     },
     "execution_count": 92,
     "metadata": {},
     "output_type": "execute_result"
    }
   ],
   "source": [
    "exchange_rate"
   ]
  },
  {
   "cell_type": "code",
   "execution_count": 93,
   "id": "8e095a14-4c33-4c80-9397-8f66682afb94",
   "metadata": {},
   "outputs": [
    {
     "data": {
      "text/plain": [
       "(10000,)"
      ]
     },
     "execution_count": 93,
     "metadata": {},
     "output_type": "execute_result"
    }
   ],
   "source": [
    "exchange_rate.shape"
   ]
  },
  {
   "cell_type": "code",
   "execution_count": 94,
   "id": "d696bbf5-c9d5-41c9-b8f5-b3ec77d15429",
   "metadata": {},
   "outputs": [
    {
     "data": {
      "text/plain": [
       "(10000, 6)"
      ]
     },
     "execution_count": 94,
     "metadata": {},
     "output_type": "execute_result"
    }
   ],
   "source": [
    "loan_data_numeric.shape"
   ]
  },
  {
   "cell_type": "code",
   "execution_count": 95,
   "id": "579d5dc0-ef25-4be0-841b-1a9fcfad590f",
   "metadata": {},
   "outputs": [],
   "source": [
    "exchange_rate= exchange_rate.reshape(10000,1)"
   ]
  },
  {
   "cell_type": "code",
   "execution_count": 96,
   "id": "849a8544-b933-4215-a995-017588b9f071",
   "metadata": {},
   "outputs": [],
   "source": [
    "loan_data_numeric= np.hstack((loan_data_numeric, exchange_rate))"
   ]
  },
  {
   "cell_type": "code",
   "execution_count": 97,
   "id": "0598d899-2179-40e5-8bda-38339fd48dd3",
   "metadata": {},
   "outputs": [
    {
     "data": {
      "text/plain": [
       "array([[48010226.  ,    35000.  ,    35000.  , ...,     1184.86,     9452.96,        1.15],\n",
       "       [57693261.  ,    30000.  ,    30000.  , ...,      938.57,     4679.7 ,        1.14],\n",
       "       [59432726.  ,    15000.  ,    15000.  , ...,      494.86,     1969.83,        1.15],\n",
       "       ...,\n",
       "       [50415990.  ,    10000.  ,    10000.  , ...,     1372.97,     2185.64,        1.14],\n",
       "       [46154151.  ,    35000.  ,    10000.  , ...,      354.3 ,     3199.4 ,        1.12],\n",
       "       [66055249.  ,    10000.  ,    10000.  , ...,      309.97,      301.9 ,        1.11]])"
      ]
     },
     "execution_count": 97,
     "metadata": {},
     "output_type": "execute_result"
    }
   ],
   "source": [
    "loan_data_numeric"
   ]
  },
  {
   "cell_type": "code",
   "execution_count": 98,
   "id": "f509d010-ca7f-4753-b818-bfe4dfa92e3c",
   "metadata": {},
   "outputs": [],
   "source": [
    "header_numeric= np.concatenate((header_numeric, np.array(['Exchange_Rate'])))"
   ]
  },
  {
   "cell_type": "code",
   "execution_count": 99,
   "id": "235df2d2-e20b-44c7-9148-0572a450499a",
   "metadata": {},
   "outputs": [
    {
     "data": {
      "text/plain": [
       "array(['id', 'loan_amnt', 'funded_amnt', 'int_rate', 'installment', 'total_pymnt', 'Exchange_Rate'],\n",
       "      dtype='<U19')"
      ]
     },
     "execution_count": 99,
     "metadata": {},
     "output_type": "execute_result"
    }
   ],
   "source": [
    "header_numeric"
   ]
  },
  {
   "cell_type": "code",
   "execution_count": 100,
   "id": "cd2bf602-afa2-49a4-87c2-aa6156b9e6fe",
   "metadata": {},
   "outputs": [],
   "source": [
    "columns_dollar= np.array([1,2,4,5])"
   ]
  },
  {
   "cell_type": "code",
   "execution_count": 101,
   "id": "4d3c997a-9694-4f27-b549-f87865ae93d5",
   "metadata": {},
   "outputs": [],
   "source": [
    "for i in columns_dollar:\n",
    "    loan_data_numeric= np.hstack((loan_data_numeric, np.reshape(loan_data_numeric[:,i] / loan_data_numeric[:,6],(10000,1))))"
   ]
  },
  {
   "cell_type": "code",
   "execution_count": 102,
   "id": "08ee679d-9b69-409c-ba27-8642a5f8bce0",
   "metadata": {},
   "outputs": [
    {
     "data": {
      "text/plain": [
       "(10000, 11)"
      ]
     },
     "execution_count": 102,
     "metadata": {},
     "output_type": "execute_result"
    }
   ],
   "source": [
    "loan_data_numeric.shape"
   ]
  },
  {
   "cell_type": "code",
   "execution_count": 103,
   "id": "dda18082-fa82-4d9d-a085-db160058589c",
   "metadata": {},
   "outputs": [],
   "source": [
    "header_additional= np.array([i + '_EUR' for i in header_numeric[columns_dollar]])"
   ]
  },
  {
   "cell_type": "code",
   "execution_count": 104,
   "id": "64e2db6f-645c-4a1b-a766-6f15ddc38ae1",
   "metadata": {},
   "outputs": [
    {
     "data": {
      "text/plain": [
       "array(['loan_amnt_EUR', 'funded_amnt_EUR', 'installment_EUR', 'total_pymnt_EUR'], dtype='<U15')"
      ]
     },
     "execution_count": 104,
     "metadata": {},
     "output_type": "execute_result"
    }
   ],
   "source": [
    "header_additional"
   ]
  },
  {
   "cell_type": "code",
   "execution_count": 105,
   "id": "e7e8329f-4b5b-4508-8161-486a43cd6b23",
   "metadata": {},
   "outputs": [],
   "source": [
    "header_numeric= np.concatenate((header_numeric, header_additional))"
   ]
  },
  {
   "cell_type": "code",
   "execution_count": 106,
   "id": "24d04c0b-30a0-4e16-98d0-4344785413a8",
   "metadata": {},
   "outputs": [
    {
     "data": {
      "text/plain": [
       "array(['id', 'loan_amnt', 'funded_amnt', 'int_rate', 'installment', 'total_pymnt', 'Exchange_Rate',\n",
       "       'loan_amnt_EUR', 'funded_amnt_EUR', 'installment_EUR', 'total_pymnt_EUR'], dtype='<U19')"
      ]
     },
     "execution_count": 106,
     "metadata": {},
     "output_type": "execute_result"
    }
   ],
   "source": [
    "header_numeric"
   ]
  },
  {
   "cell_type": "code",
   "execution_count": 107,
   "id": "529fb4c5-6af4-4d11-9413-bdbe56af0658",
   "metadata": {},
   "outputs": [],
   "source": [
    "header_numeric[columns_dollar]= np.array([i+ '_USD' for i in header_numeric[columns_dollar]])"
   ]
  },
  {
   "cell_type": "code",
   "execution_count": 108,
   "id": "cd61b6cd-b1ed-436f-b250-3e6ae786e064",
   "metadata": {},
   "outputs": [
    {
     "data": {
      "text/plain": [
       "array(['id', 'loan_amnt_USD', 'funded_amnt_USD', 'int_rate', 'installment_USD', 'total_pymnt_USD',\n",
       "       'Exchange_Rate', 'loan_amnt_EUR', 'funded_amnt_EUR', 'installment_EUR', 'total_pymnt_EUR'],\n",
       "      dtype='<U19')"
      ]
     },
     "execution_count": 108,
     "metadata": {},
     "output_type": "execute_result"
    }
   ],
   "source": [
    "header_numeric"
   ]
  },
  {
   "cell_type": "code",
   "execution_count": 109,
   "id": "83701994-b774-45a2-b42d-f4d927a2bd3f",
   "metadata": {},
   "outputs": [],
   "source": [
    "seq_list= [0,1,7,2,8,3,4,9,5,10,6]"
   ]
  },
  {
   "cell_type": "code",
   "execution_count": 110,
   "id": "adccffca-02c2-48a1-9857-a77a12111a68",
   "metadata": {},
   "outputs": [],
   "source": [
    "header_numeric= header_numeric[seq_list] "
   ]
  },
  {
   "cell_type": "code",
   "execution_count": 111,
   "id": "d9227769-8f51-4cc9-8eb3-1b16c6928a0e",
   "metadata": {},
   "outputs": [
    {
     "data": {
      "text/plain": [
       "array(['id', 'loan_amnt_USD', 'loan_amnt_EUR', 'funded_amnt_USD', 'funded_amnt_EUR', 'int_rate',\n",
       "       'installment_USD', 'installment_EUR', 'total_pymnt_USD', 'total_pymnt_EUR', 'Exchange_Rate'],\n",
       "      dtype='<U19')"
      ]
     },
     "execution_count": 111,
     "metadata": {},
     "output_type": "execute_result"
    }
   ],
   "source": [
    "header_numeric"
   ]
  },
  {
   "cell_type": "code",
   "execution_count": 112,
   "id": "01559354-107f-49fa-b637-7001168a32d6",
   "metadata": {},
   "outputs": [],
   "source": [
    "loan_data_numeric= loan_data_numeric[:, seq_list]"
   ]
  },
  {
   "cell_type": "code",
   "execution_count": 113,
   "id": "37589ae3-542f-4c8d-8177-c068f4be0355",
   "metadata": {},
   "outputs": [
    {
     "data": {
      "text/plain": [
       "array([[48010226.  ,    35000.  ,    30559.55, ...,     9452.96,     8253.66,        1.15],\n",
       "       [57693261.  ,    30000.  ,    26284.57, ...,     4679.7 ,     4100.13,        1.14],\n",
       "       [59432726.  ,    15000.  ,    13089.  , ...,     1969.83,     1718.87,        1.15],\n",
       "       ...,\n",
       "       [50415990.  ,    10000.  ,     8750.13, ...,     2185.64,     1912.46,        1.14],\n",
       "       [46154151.  ,    35000.  ,    31117.77, ...,     3199.4 ,     2844.52,        1.12],\n",
       "       [66055249.  ,    10000.  ,     9033.42, ...,      301.9 ,      272.72,        1.11]])"
      ]
     },
     "execution_count": 113,
     "metadata": {},
     "output_type": "execute_result"
    }
   ],
   "source": [
    "loan_data_numeric"
   ]
  },
  {
   "cell_type": "code",
   "execution_count": 114,
   "id": "a0d2b856-511c-42ec-929b-7a46c82b0ee9",
   "metadata": {},
   "outputs": [
    {
     "data": {
      "text/plain": [
       "array(['id', 'loan_amnt_USD', 'loan_amnt_EUR', 'funded_amnt_USD', 'funded_amnt_EUR', 'int_rate',\n",
       "       'installment_USD', 'installment_EUR', 'total_pymnt_USD', 'total_pymnt_EUR', 'Exchange_Rate'],\n",
       "      dtype='<U19')"
      ]
     },
     "execution_count": 114,
     "metadata": {},
     "output_type": "execute_result"
    }
   ],
   "source": [
    "header_numeric"
   ]
  },
  {
   "cell_type": "code",
   "execution_count": 115,
   "id": "de1a805e-2299-43a6-bc80-c6eafd661d0b",
   "metadata": {},
   "outputs": [
    {
     "data": {
      "text/plain": [
       "array([13.33, 28.99, 28.99, ..., 28.99, 16.55, 28.99])"
      ]
     },
     "execution_count": 115,
     "metadata": {},
     "output_type": "execute_result"
    }
   ],
   "source": [
    "loan_data_numeric[:, 5]"
   ]
  },
  {
   "cell_type": "code",
   "execution_count": 116,
   "id": "b0405e71-022c-4b73-9a42-03d53f152da8",
   "metadata": {},
   "outputs": [],
   "source": [
    "loan_data_numeric[:,5]= loan_data_numeric[:,5]/100"
   ]
  },
  {
   "cell_type": "code",
   "execution_count": 117,
   "id": "b8292f17-7b4c-4cac-b438-5db80a2d246a",
   "metadata": {},
   "outputs": [
    {
     "data": {
      "text/plain": [
       "array([0.13, 0.29, 0.29, ..., 0.29, 0.17, 0.29])"
      ]
     },
     "execution_count": 117,
     "metadata": {},
     "output_type": "execute_result"
    }
   ],
   "source": [
    "loan_data_numeric[:,5]"
   ]
  },
  {
   "cell_type": "code",
   "execution_count": 118,
   "id": "38c0a8fd-7bbf-4c76-8a7f-eaa619d64c86",
   "metadata": {},
   "outputs": [],
   "source": [
    "checkpoint_numeric= checkpoint('checkpoint_numeric', header_numeric, loan_data_numeric)"
   ]
  },
  {
   "cell_type": "code",
   "execution_count": 119,
   "id": "726f4983-4cfd-447c-a8ae-524897af3c30",
   "metadata": {},
   "outputs": [
    {
     "data": {
      "text/plain": [
       "(10000, 11)"
      ]
     },
     "execution_count": 119,
     "metadata": {},
     "output_type": "execute_result"
    }
   ],
   "source": [
    "loan_data_numeric.shape"
   ]
  },
  {
   "cell_type": "code",
   "execution_count": 120,
   "id": "b3cc466e-af2d-4296-964b-f9e368727b62",
   "metadata": {},
   "outputs": [
    {
     "data": {
      "text/plain": [
       "(10000, 6)"
      ]
     },
     "execution_count": 120,
     "metadata": {},
     "output_type": "execute_result"
    }
   ],
   "source": [
    "loan_data_strings.shape"
   ]
  },
  {
   "cell_type": "code",
   "execution_count": 121,
   "id": "a6cd7f16-f7be-48bc-bb60-95257a3a5c46",
   "metadata": {},
   "outputs": [
    {
     "data": {
      "text/plain": [
       "array([[48010226.  ,    35000.  ,    30559.55, ...,       13.  ,        1.  ,        1.  ],\n",
       "       [57693261.  ,    30000.  ,    26284.57, ...,        5.  ,        1.  ,        4.  ],\n",
       "       [59432726.  ,    15000.  ,    13089.  , ...,       10.  ,        1.  ,        4.  ],\n",
       "       ...,\n",
       "       [50415990.  ,    10000.  ,     8750.13, ...,        5.  ,        1.  ,        1.  ],\n",
       "       [46154151.  ,    35000.  ,    31117.77, ...,       17.  ,        1.  ,        3.  ],\n",
       "       [66055249.  ,    10000.  ,     9033.42, ...,        4.  ,        0.  ,        3.  ]])"
      ]
     },
     "execution_count": 121,
     "metadata": {},
     "output_type": "execute_result"
    }
   ],
   "source": [
    "np.hstack((loan_data_numeric,loan_data_strings))"
   ]
  },
  {
   "cell_type": "code",
   "execution_count": 122,
   "id": "651302be-d91c-4931-9431-a54c879c2bfb",
   "metadata": {},
   "outputs": [
    {
     "data": {
      "text/plain": [
       "(10000, 17)"
      ]
     },
     "execution_count": 122,
     "metadata": {},
     "output_type": "execute_result"
    }
   ],
   "source": [
    "np.hstack((loan_data_numeric,loan_data_strings)).shape"
   ]
  },
  {
   "cell_type": "code",
   "execution_count": 123,
   "id": "a2f89e13-f076-482b-9e89-3db947a354fa",
   "metadata": {},
   "outputs": [],
   "source": [
    "loan_data= np.hstack((loan_data_numeric,loan_data_strings))"
   ]
  },
  {
   "cell_type": "code",
   "execution_count": 124,
   "id": "d4045f51-d6cd-40d5-b01f-325a9908f9b5",
   "metadata": {},
   "outputs": [
    {
     "data": {
      "text/plain": [
       "array(['id', 'loan_amnt_USD', 'loan_amnt_EUR', 'funded_amnt_USD', 'funded_amnt_EUR', 'int_rate',\n",
       "       'installment_USD', 'installment_EUR', 'total_pymnt_USD', 'total_pymnt_EUR', 'Exchange_Rate',\n",
       "       'issue-date', 'loan_status', 'term_months', 'sub_grade', 'verification_status',\n",
       "       'addr_state'], dtype='<U19')"
      ]
     },
     "execution_count": 124,
     "metadata": {},
     "output_type": "execute_result"
    }
   ],
   "source": [
    "np.concatenate((header_numeric,header_strings))"
   ]
  },
  {
   "cell_type": "code",
   "execution_count": 125,
   "id": "7e336368-7fea-4442-9f86-d45a01665eff",
   "metadata": {},
   "outputs": [],
   "source": [
    "header_full= np.concatenate((header_numeric,header_strings))"
   ]
  },
  {
   "cell_type": "code",
   "execution_count": 126,
   "id": "57b05b7f-96dd-4c56-a873-943b1b652316",
   "metadata": {},
   "outputs": [
    {
     "data": {
      "text/plain": [
       "array([  373332.,   575239.,   707689., ..., 68614880., 68615915., 68616519.])"
      ]
     },
     "execution_count": 126,
     "metadata": {},
     "output_type": "execute_result"
    }
   ],
   "source": [
    "np.sort(loan_data[:,0])"
   ]
  },
  {
   "cell_type": "code",
   "execution_count": 127,
   "id": "38425f3d-05c3-4422-bef0-05d2ba85a779",
   "metadata": {},
   "outputs": [
    {
     "data": {
      "text/plain": [
       "array([2086, 4812, 2353, ..., 4935, 9388, 8415], dtype=int64)"
      ]
     },
     "execution_count": 127,
     "metadata": {},
     "output_type": "execute_result"
    }
   ],
   "source": [
    "np.argsort(loan_data[:,0])"
   ]
  },
  {
   "cell_type": "code",
   "execution_count": 128,
   "id": "ddda6284-92f8-47e8-827e-7fc97010d6ae",
   "metadata": {},
   "outputs": [],
   "source": [
    "loan_data= loan_data[np.argsort(loan_data[:,0])]"
   ]
  },
  {
   "cell_type": "code",
   "execution_count": 129,
   "id": "f588337f-1f11-4ef5-89b4-5e28607ca1ae",
   "metadata": {},
   "outputs": [
    {
     "data": {
      "text/plain": [
       "array([[  373332.  ,     9950.  ,     8656.54, ...,       21.  ,        0.  ,        1.  ],\n",
       "       [  575239.  ,    12000.  ,    10440.05, ...,       25.  ,        1.  ,        2.  ],\n",
       "       [  707689.  ,    10000.  ,     8707.62, ...,       13.  ,        1.  ,        0.  ],\n",
       "       ...,\n",
       "       [68614880.  ,     5600.  ,     5058.72, ...,        8.  ,        1.  ,        1.  ],\n",
       "       [68615915.  ,     4000.  ,     3613.37, ...,       10.  ,        1.  ,        2.  ],\n",
       "       [68616519.  ,    21600.  ,    19512.19, ...,        3.  ,        0.  ,        2.  ]])"
      ]
     },
     "execution_count": 129,
     "metadata": {},
     "output_type": "execute_result"
    }
   ],
   "source": [
    "loan_data"
   ]
  },
  {
   "cell_type": "code",
   "execution_count": 130,
   "id": "79b2f439-bd52-4a2a-8032-036e4f6393f5",
   "metadata": {},
   "outputs": [],
   "source": [
    "loan_data=np.vstack((header_full,loan_data))"
   ]
  },
  {
   "cell_type": "code",
   "execution_count": 131,
   "id": "009cf9d3-96f6-46d1-af42-ac9e497dbafa",
   "metadata": {},
   "outputs": [
    {
     "data": {
      "text/plain": [
       "array([['id', 'loan_amnt_USD', 'loan_amnt_EUR', ..., 'sub_grade', 'verification_status',\n",
       "        'addr_state'],\n",
       "       ['373332.0', '9950.0', '8656.539647132546', ..., '21.0', '0.0', '1.0'],\n",
       "       ['575239.0', '12000.0', '10440.04781563724', ..., '25.0', '1.0', '2.0'],\n",
       "       ...,\n",
       "       ['68614880.0', '5600.0', '5058.715105318186', ..., '8.0', '1.0', '1.0'],\n",
       "       ['68615915.0', '4000.0', '3613.3679323701326', ..., '10.0', '1.0', '2.0'],\n",
       "       ['68616519.0', '21600.0', '19512.18683479872', ..., '3.0', '0.0', '2.0']], dtype='<U32')"
      ]
     },
     "execution_count": 131,
     "metadata": {},
     "output_type": "execute_result"
    }
   ],
   "source": [
    "loan_data"
   ]
  },
  {
   "cell_type": "code",
   "execution_count": 132,
   "id": "4ef8c171-36b1-418c-9da6-9183bdefd921",
   "metadata": {},
   "outputs": [],
   "source": [
    "np.savetxt('loan_preprocessed.csv',\n",
    "           loan_data,\n",
    "           fmt= '%s',\n",
    "           delimiter=',')"
   ]
  },
  {
   "cell_type": "code",
   "execution_count": 133,
   "id": "dff55af8-fa74-469c-88d0-c7b2a29c9ea2",
   "metadata": {},
   "outputs": [
    {
     "data": {
      "text/plain": [
       "array(['id', 'loan_amnt_USD', 'loan_amnt_EUR', 'funded_amnt_USD', 'funded_amnt_EUR', 'int_rate',\n",
       "       'installment_USD', 'installment_EUR', 'total_pymnt_USD', 'total_pymnt_EUR', 'Exchange_Rate',\n",
       "       'issue-date', 'loan_status', 'term_months', 'sub_grade', 'verification_status',\n",
       "       'addr_state'], dtype='<U19')"
      ]
     },
     "execution_count": 133,
     "metadata": {},
     "output_type": "execute_result"
    }
   ],
   "source": [
    "header_full"
   ]
  },
  {
   "cell_type": "code",
   "execution_count": 134,
   "id": "e74047d5-4861-457d-b989-34e8a3187009",
   "metadata": {},
   "outputs": [],
   "source": [
    "import pandas as pd"
   ]
  },
  {
   "cell_type": "code",
   "execution_count": 135,
   "id": "5ec063ed-9756-4144-bc78-191b5362c601",
   "metadata": {},
   "outputs": [
    {
     "data": {
      "text/html": [
       "<div>\n",
       "<style scoped>\n",
       "    .dataframe tbody tr th:only-of-type {\n",
       "        vertical-align: middle;\n",
       "    }\n",
       "\n",
       "    .dataframe tbody tr th {\n",
       "        vertical-align: top;\n",
       "    }\n",
       "\n",
       "    .dataframe thead th {\n",
       "        text-align: right;\n",
       "    }\n",
       "</style>\n",
       "<table border=\"1\" class=\"dataframe\">\n",
       "  <thead>\n",
       "    <tr style=\"text-align: right;\">\n",
       "      <th></th>\n",
       "      <th>id</th>\n",
       "      <th>loan_amnt_USD</th>\n",
       "      <th>loan_amnt_EUR</th>\n",
       "      <th>funded_amnt_USD</th>\n",
       "      <th>funded_amnt_EUR</th>\n",
       "      <th>int_rate</th>\n",
       "      <th>installment_USD</th>\n",
       "      <th>installment_EUR</th>\n",
       "      <th>total_pymnt_USD</th>\n",
       "      <th>total_pymnt_EUR</th>\n",
       "      <th>Exchange_Rate</th>\n",
       "      <th>issue-date</th>\n",
       "      <th>loan_status</th>\n",
       "      <th>term_months</th>\n",
       "      <th>sub_grade</th>\n",
       "      <th>verification_status</th>\n",
       "      <th>addr_state</th>\n",
       "    </tr>\n",
       "  </thead>\n",
       "  <tbody>\n",
       "    <tr>\n",
       "      <th>0</th>\n",
       "      <td>373332.0</td>\n",
       "      <td>9950.0</td>\n",
       "      <td>8656.539647</td>\n",
       "      <td>1000.0</td>\n",
       "      <td>870.003985</td>\n",
       "      <td>0.1825</td>\n",
       "      <td>360.97</td>\n",
       "      <td>314.045338</td>\n",
       "      <td>1072.82</td>\n",
       "      <td>933.357675</td>\n",
       "      <td>1.149420</td>\n",
       "      <td>10.0</td>\n",
       "      <td>1.0</td>\n",
       "      <td>36.0</td>\n",
       "      <td>21.0</td>\n",
       "      <td>0.0</td>\n",
       "      <td>1.0</td>\n",
       "    </tr>\n",
       "    <tr>\n",
       "      <th>1</th>\n",
       "      <td>575239.0</td>\n",
       "      <td>12000.0</td>\n",
       "      <td>10440.047816</td>\n",
       "      <td>12000.0</td>\n",
       "      <td>10440.047816</td>\n",
       "      <td>0.2099</td>\n",
       "      <td>324.58</td>\n",
       "      <td>282.385893</td>\n",
       "      <td>959.75</td>\n",
       "      <td>834.986324</td>\n",
       "      <td>1.149420</td>\n",
       "      <td>10.0</td>\n",
       "      <td>1.0</td>\n",
       "      <td>60.0</td>\n",
       "      <td>25.0</td>\n",
       "      <td>1.0</td>\n",
       "      <td>2.0</td>\n",
       "    </tr>\n",
       "    <tr>\n",
       "      <th>2</th>\n",
       "      <td>707689.0</td>\n",
       "      <td>10000.0</td>\n",
       "      <td>8707.619476</td>\n",
       "      <td>10000.0</td>\n",
       "      <td>8707.619476</td>\n",
       "      <td>0.1366</td>\n",
       "      <td>340.13</td>\n",
       "      <td>296.172261</td>\n",
       "      <td>3726.25</td>\n",
       "      <td>3244.676707</td>\n",
       "      <td>1.148419</td>\n",
       "      <td>2.0</td>\n",
       "      <td>1.0</td>\n",
       "      <td>36.0</td>\n",
       "      <td>13.0</td>\n",
       "      <td>1.0</td>\n",
       "      <td>0.0</td>\n",
       "    </tr>\n",
       "    <tr>\n",
       "      <th>3</th>\n",
       "      <td>709828.0</td>\n",
       "      <td>27200.0</td>\n",
       "      <td>23664.108382</td>\n",
       "      <td>27200.0</td>\n",
       "      <td>23664.108382</td>\n",
       "      <td>0.2899</td>\n",
       "      <td>553.87</td>\n",
       "      <td>481.869107</td>\n",
       "      <td>41913.62</td>\n",
       "      <td>36465.016411</td>\n",
       "      <td>1.149420</td>\n",
       "      <td>10.0</td>\n",
       "      <td>1.0</td>\n",
       "      <td>60.0</td>\n",
       "      <td>6.0</td>\n",
       "      <td>0.0</td>\n",
       "      <td>4.0</td>\n",
       "    </tr>\n",
       "    <tr>\n",
       "      <th>4</th>\n",
       "      <td>849994.0</td>\n",
       "      <td>11400.0</td>\n",
       "      <td>10141.987761</td>\n",
       "      <td>11400.0</td>\n",
       "      <td>10141.987761</td>\n",
       "      <td>0.2899</td>\n",
       "      <td>376.09</td>\n",
       "      <td>334.587735</td>\n",
       "      <td>3753.60</td>\n",
       "      <td>3339.382918</td>\n",
       "      <td>1.124040</td>\n",
       "      <td>3.0</td>\n",
       "      <td>1.0</td>\n",
       "      <td>36.0</td>\n",
       "      <td>10.0</td>\n",
       "      <td>0.0</td>\n",
       "      <td>1.0</td>\n",
       "    </tr>\n",
       "    <tr>\n",
       "      <th>...</th>\n",
       "      <td>...</td>\n",
       "      <td>...</td>\n",
       "      <td>...</td>\n",
       "      <td>...</td>\n",
       "      <td>...</td>\n",
       "      <td>...</td>\n",
       "      <td>...</td>\n",
       "      <td>...</td>\n",
       "      <td>...</td>\n",
       "      <td>...</td>\n",
       "      <td>...</td>\n",
       "      <td>...</td>\n",
       "      <td>...</td>\n",
       "      <td>...</td>\n",
       "      <td>...</td>\n",
       "      <td>...</td>\n",
       "      <td>...</td>\n",
       "    </tr>\n",
       "    <tr>\n",
       "      <th>9995</th>\n",
       "      <td>68603178.0</td>\n",
       "      <td>14000.0</td>\n",
       "      <td>12646.787763</td>\n",
       "      <td>14000.0</td>\n",
       "      <td>12646.787763</td>\n",
       "      <td>0.2899</td>\n",
       "      <td>421.61</td>\n",
       "      <td>380.858013</td>\n",
       "      <td>41913.62</td>\n",
       "      <td>37862.332609</td>\n",
       "      <td>1.107000</td>\n",
       "      <td>12.0</td>\n",
       "      <td>1.0</td>\n",
       "      <td>36.0</td>\n",
       "      <td>1.0</td>\n",
       "      <td>0.0</td>\n",
       "      <td>1.0</td>\n",
       "    </tr>\n",
       "    <tr>\n",
       "      <th>9996</th>\n",
       "      <td>68604253.0</td>\n",
       "      <td>20000.0</td>\n",
       "      <td>18066.839662</td>\n",
       "      <td>20000.0</td>\n",
       "      <td>18066.839662</td>\n",
       "      <td>0.2899</td>\n",
       "      <td>631.26</td>\n",
       "      <td>570.243660</td>\n",
       "      <td>0.00</td>\n",
       "      <td>0.000000</td>\n",
       "      <td>1.107000</td>\n",
       "      <td>12.0</td>\n",
       "      <td>1.0</td>\n",
       "      <td>36.0</td>\n",
       "      <td>6.0</td>\n",
       "      <td>0.0</td>\n",
       "      <td>2.0</td>\n",
       "    </tr>\n",
       "    <tr>\n",
       "      <th>9997</th>\n",
       "      <td>68614880.0</td>\n",
       "      <td>5600.0</td>\n",
       "      <td>5058.715105</td>\n",
       "      <td>5600.0</td>\n",
       "      <td>5058.715105</td>\n",
       "      <td>0.2899</td>\n",
       "      <td>180.18</td>\n",
       "      <td>162.764159</td>\n",
       "      <td>0.00</td>\n",
       "      <td>0.000000</td>\n",
       "      <td>1.107000</td>\n",
       "      <td>12.0</td>\n",
       "      <td>1.0</td>\n",
       "      <td>36.0</td>\n",
       "      <td>8.0</td>\n",
       "      <td>1.0</td>\n",
       "      <td>1.0</td>\n",
       "    </tr>\n",
       "    <tr>\n",
       "      <th>9998</th>\n",
       "      <td>68615915.0</td>\n",
       "      <td>4000.0</td>\n",
       "      <td>3613.367932</td>\n",
       "      <td>4000.0</td>\n",
       "      <td>3613.367932</td>\n",
       "      <td>0.2899</td>\n",
       "      <td>131.87</td>\n",
       "      <td>119.123707</td>\n",
       "      <td>0.00</td>\n",
       "      <td>0.000000</td>\n",
       "      <td>1.107000</td>\n",
       "      <td>12.0</td>\n",
       "      <td>1.0</td>\n",
       "      <td>36.0</td>\n",
       "      <td>10.0</td>\n",
       "      <td>1.0</td>\n",
       "      <td>2.0</td>\n",
       "    </tr>\n",
       "    <tr>\n",
       "      <th>9999</th>\n",
       "      <td>68616519.0</td>\n",
       "      <td>21600.0</td>\n",
       "      <td>19512.186835</td>\n",
       "      <td>21600.0</td>\n",
       "      <td>19512.186835</td>\n",
       "      <td>0.2899</td>\n",
       "      <td>666.85</td>\n",
       "      <td>602.393601</td>\n",
       "      <td>0.00</td>\n",
       "      <td>0.000000</td>\n",
       "      <td>1.107000</td>\n",
       "      <td>12.0</td>\n",
       "      <td>1.0</td>\n",
       "      <td>36.0</td>\n",
       "      <td>3.0</td>\n",
       "      <td>0.0</td>\n",
       "      <td>2.0</td>\n",
       "    </tr>\n",
       "  </tbody>\n",
       "</table>\n",
       "<p>10000 rows × 17 columns</p>\n",
       "</div>"
      ],
      "text/plain": [
       "              id  loan_amnt_USD  loan_amnt_EUR  funded_amnt_USD  \\\n",
       "0       373332.0         9950.0    8656.539647           1000.0   \n",
       "1       575239.0        12000.0   10440.047816          12000.0   \n",
       "2       707689.0        10000.0    8707.619476          10000.0   \n",
       "3       709828.0        27200.0   23664.108382          27200.0   \n",
       "4       849994.0        11400.0   10141.987761          11400.0   \n",
       "...          ...            ...            ...              ...   \n",
       "9995  68603178.0        14000.0   12646.787763          14000.0   \n",
       "9996  68604253.0        20000.0   18066.839662          20000.0   \n",
       "9997  68614880.0         5600.0    5058.715105           5600.0   \n",
       "9998  68615915.0         4000.0    3613.367932           4000.0   \n",
       "9999  68616519.0        21600.0   19512.186835          21600.0   \n",
       "\n",
       "      funded_amnt_EUR  int_rate  installment_USD  installment_EUR  \\\n",
       "0          870.003985    0.1825           360.97       314.045338   \n",
       "1        10440.047816    0.2099           324.58       282.385893   \n",
       "2         8707.619476    0.1366           340.13       296.172261   \n",
       "3        23664.108382    0.2899           553.87       481.869107   \n",
       "4        10141.987761    0.2899           376.09       334.587735   \n",
       "...               ...       ...              ...              ...   \n",
       "9995     12646.787763    0.2899           421.61       380.858013   \n",
       "9996     18066.839662    0.2899           631.26       570.243660   \n",
       "9997      5058.715105    0.2899           180.18       162.764159   \n",
       "9998      3613.367932    0.2899           131.87       119.123707   \n",
       "9999     19512.186835    0.2899           666.85       602.393601   \n",
       "\n",
       "      total_pymnt_USD  total_pymnt_EUR  Exchange_Rate  issue-date  \\\n",
       "0             1072.82       933.357675       1.149420        10.0   \n",
       "1              959.75       834.986324       1.149420        10.0   \n",
       "2             3726.25      3244.676707       1.148419         2.0   \n",
       "3            41913.62     36465.016411       1.149420        10.0   \n",
       "4             3753.60      3339.382918       1.124040         3.0   \n",
       "...               ...              ...            ...         ...   \n",
       "9995         41913.62     37862.332609       1.107000        12.0   \n",
       "9996             0.00         0.000000       1.107000        12.0   \n",
       "9997             0.00         0.000000       1.107000        12.0   \n",
       "9998             0.00         0.000000       1.107000        12.0   \n",
       "9999             0.00         0.000000       1.107000        12.0   \n",
       "\n",
       "      loan_status  term_months  sub_grade  verification_status  addr_state  \n",
       "0             1.0         36.0       21.0                  0.0         1.0  \n",
       "1             1.0         60.0       25.0                  1.0         2.0  \n",
       "2             1.0         36.0       13.0                  1.0         0.0  \n",
       "3             1.0         60.0        6.0                  0.0         4.0  \n",
       "4             1.0         36.0       10.0                  0.0         1.0  \n",
       "...           ...          ...        ...                  ...         ...  \n",
       "9995          1.0         36.0        1.0                  0.0         1.0  \n",
       "9996          1.0         36.0        6.0                  0.0         2.0  \n",
       "9997          1.0         36.0        8.0                  1.0         1.0  \n",
       "9998          1.0         36.0       10.0                  1.0         2.0  \n",
       "9999          1.0         36.0        3.0                  0.0         2.0  \n",
       "\n",
       "[10000 rows x 17 columns]"
      ]
     },
     "execution_count": 135,
     "metadata": {},
     "output_type": "execute_result"
    }
   ],
   "source": [
    "df= pd.read_csv('loan_preprocessed.csv')\n",
    "df"
   ]
  },
  {
   "cell_type": "code",
   "execution_count": 136,
   "id": "d4b51760-0fe0-43a9-8b1b-321fd83b77bd",
   "metadata": {},
   "outputs": [],
   "source": [
    "import matplotlib.pyplot as plt\n",
    "import seaborn as sns\n",
    "sns.set()"
   ]
  },
  {
   "cell_type": "code",
   "execution_count": 137,
   "id": "82751922-9702-4436-b7ed-ae024d6964e0",
   "metadata": {},
   "outputs": [
    {
     "data": {
      "image/png": "[encoded data removed]",
      "text/plain": [
       "<Figure size 1200x800 with 1 Axes>"
      ]
     },
     "metadata": {},
     "output_type": "display_data"
    }
   ],
   "source": [
    "plt.figure(figsize=(12,8))\n",
    "plt.hist(df['loan_amnt_USD'],\n",
    "         bins=7,\n",
    "         color= '#944BBB')\n",
    "plt.title('Distribution of amount for loan', fontsize= 'large', weight= 'bold')\n",
    "plt.xlabel('Amount')\n",
    "plt.ylabel('Frequency')\n",
    "plt.xticks(rotation=45)\n",
    "plt.show()"
   ]
  },
  {
   "cell_type": "code",
   "execution_count": 309,
   "id": "8c8d3efe-69fc-48b0-b319-59449477be22",
   "metadata": {},
   "outputs": [],
   "source": [
    "unique_elements, counts = np.unique(loan_data_strings[:, 5], return_counts=True)"
   ]
  },
  {
   "cell_type": "code",
   "execution_count": 311,
   "id": "00146f87-30ce-462f-b1af-a49a487211f8",
   "metadata": {},
   "outputs": [
    {
     "name": "stdout",
     "output_type": "stream",
     "text": [
      "[ 500 2467 3384 1733 1916]\n"
     ]
    }
   ],
   "source": [
    "print(counts)"
   ]
  },
  {
   "cell_type": "code",
   "execution_count": 321,
   "id": "ba4e9aa0-6e13-49cd-8909-71ff437f75c3",
   "metadata": {},
   "outputs": [
    {
     "data": {
      "image/png": "[encoded data removed]",
      "text/plain": [
       "<Figure size 1000x800 with 1 Axes>"
      ]
     },
     "metadata": {},
     "output_type": "display_data"
    }
   ],
   "source": [
    "labels= ['Others', 'west', 'south', 'midwest', 'east']\n",
    "plt.figure(figsize=(10,8))\n",
    "plt.pie(counts,\n",
    "        labels=labels,\n",
    "        autopct= '%.2f%%',\n",
    "        textprops= {'size': 'x-large', \n",
    "                    'fontweight': 'bold',\n",
    "                    'color': 'w',\n",
    "                    'rotation':30})\n",
    "plt.title('Loan requirements across different regions', fontsize= 18, fontweight= 'bold')\n",
    "plt.legend()\n",
    "plt.show()"
   ]
  },
  {
   "cell_type": "code",
   "execution_count": null,
   "id": "ba91b788-8385-4409-91f3-a23cda48413f",
   "metadata": {},
   "outputs": [],
   "source": []
  }
 ],
 "metadata": {
  "kernelspec": {
   "display_name": "Python 3 (ipykernel)",
   "language": "python",
   "name": "python3"
  },
  "language_info": {
   "codemirror_mode": {
    "name": "ipython",
    "version": 3
   },
   "file_extension": ".py",
   "mimetype": "text/x-python",
   "name": "python",
   "nbconvert_exporter": "python",
   "pygments_lexer": "ipython3",
   "version": "3.12.4"
  }
 },
 "nbformat": 4,
 "nbformat_minor": 5
}
